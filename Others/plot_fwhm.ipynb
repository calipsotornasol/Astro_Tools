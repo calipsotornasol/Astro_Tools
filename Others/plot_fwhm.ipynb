{
 "cells": [
  {
   "cell_type": "code",
   "execution_count": 7,
   "metadata": {
    "collapsed": false
   },
   "outputs": [
    {
     "name": "stdout",
     "output_type": "stream",
     "text": [
      "Processing epoch1.txt\n",
      "       Frame    Fwhm    Error Date\n",
      "0  20apr0002  4.0350  0.08070  002\n",
      "1  20apr0003  4.2465  0.08493  003\n",
      "2  20apr0004  3.9030  0.07806  004\n",
      "3  20apr0005  3.1790  0.06358  005\n",
      "4  20apr0006  3.3140  0.06628  006\n",
      "5  20apr0007  3.4525  0.06905  007\n",
      "6  20apr0008  4.0670  0.08134  008\n",
      "7  20apr0009  3.2960  0.06592  009\n",
      "Processing epoch2.txt\n",
      "       Frame    Fwhm    Error Date\n",
      "0  24may0001  4.4105  0.08821  001\n",
      "1  24may0002  3.6630  0.07326  002\n",
      "2  24may0003  3.9900  0.07980  003\n",
      "3  24may0005  3.9430  0.07886  005\n",
      "4  24may0006  3.5350  0.07070  006\n",
      "5  24may0007  3.8340  0.07668  007\n",
      "6  24may0008  3.5435  0.07087  008\n",
      "7  24may0009  3.3160  0.06632  009\n",
      "Processing epoch3.txt\n",
      "           Frame    Fwhm    Error Date\n",
      "0  psf_12apr0211  5.2820  0.10564  211\n",
      "1  psf_12apr0212  6.0155  0.12031  212\n",
      "2  psf_12apr0213  5.3915  0.10783  213\n",
      "3  psf_12apr0214  7.5465  0.15093  214\n",
      "4  psf_12apr0215  6.2080  0.12416  215\n",
      "5  psf_12apr0216  5.8525  0.11705  216\n",
      "6  psf_12apr0217  5.6975  0.11395  217\n",
      "7  psf_12apr0218  5.0155  0.10031  218\n",
      "8  psf_12apr0219  4.5550  0.09110  219\n",
      "9  psf_12apr0220  4.4965  0.08993  220\n",
      "Processing epoch4.txt\n",
      "           Frame    Fwhm    Error Date\n",
      "0  psf_28may0100  6.7825  0.13565  100\n",
      "1  psf_28may0101  9.9565  0.19913  101\n",
      "2  psf_28may0103  6.2830  0.12566  103\n",
      "3  psf_28may0104  8.0660  0.16132  104\n",
      "4  psf_28may0105  6.5785  0.13157  105\n",
      "Processing epoch5.txt\n",
      "            Frame    Fwhm    Error Date\n",
      "0   psf_18jun0158  4.8435  0.09687  158\n",
      "1   psf_18jun0159  5.1780  0.10356  159\n",
      "2   psf_18jun0160  4.8430  0.09686  160\n",
      "3   psf_18jun0161  4.8650  0.09730  161\n",
      "4   psf_18jun0163  5.2335  0.10467  163\n",
      "5   psf_18jun0164  5.6125  0.11225  164\n",
      "6   psf_18jun0165  5.8020  0.11604  165\n",
      "7   psf_18jun0169  5.6655  0.11331  169\n",
      "8   psf_18jun0170  6.6425  0.13285  170\n",
      "9   psf_18jun0171  8.0095  0.16019  171\n",
      "10  psf_18jun0174  7.0030  0.14006  174\n"
     ]
    },
    {
     "data": {
      "image/png": "[encoded data removed]",
      "text/plain": [
       "<matplotlib.figure.Figure at 0x1160df5f8>"
      ]
     },
     "metadata": {},
     "output_type": "display_data"
    }
   ],
   "source": [
    "import matplotlib.pyplot as plt\n",
    "import numpy as np\n",
    "import pandas as pd\n",
    "import glob\n",
    "import os\n",
    "from matplotlib.ticker import ScalarFormatter, FormatStrFormatter\n",
    "\n",
    "#font = {'family' : 'arial',\n",
    "        #'weight' : 'normal',\n",
    "        #'size'   : 15  }\n",
    "\n",
    "#-plt.rc('font', **font)\n",
    "\n",
    "folder_path = os.getcwd()\n",
    "\n",
    "for file in os.listdir(folder_path):\n",
    "    if glob.fnmatch.fnmatch(file,\"epoch?.txt\"):\n",
    "        print ('Processing ' + file)\n",
    "        name= os.path.splitext(file)[0]\n",
    "        id=name[5:6]\n",
    "       \n",
    "        df = pd.read_csv(file, sep=\" \", header=None)\n",
    "        df.columns = ['Frame', 'Fwhm', 'Error']\n",
    "        df['Date'] = df['Frame'].str.replace(r'([^-]*)[a-zA-Z]0','').str.strip()\n",
    "       \n",
    "        print (df)\n",
    "    \n",
    "        get_ipython().magic('matplotlib inline')\n",
    "        \n",
    "        xlab = df.Date.values\n",
    "        ylab = df.Fwhm.values\n",
    "     \n",
    "        indx=[i for i in range(len(xlab))]\n",
    "        x=range(len(xlab))\n",
    "        plt.plot(indx, ylab,'g^', markersize=10)\n",
    "        plt.xticks(x, xlab)\n",
    "        plt.title('Fwhm')\n",
    "        plt.savefig('Fwhm_'+id+'.png',dpi=100)\n"
   ]
  }
 ],
 "metadata": {
  "anaconda-cloud": {},
  "kernelspec": {
   "display_name": "Python 3",
   "language": "python",
   "name": "python3"
  },
  "language_info": {
   "codemirror_mode": {
    "name": "ipython",
    "version": 3
   },
   "file_extension": ".py",
   "mimetype": "text/x-python",
   "name": "python",
   "nbconvert_exporter": "python",
   "pygments_lexer": "ipython3",
   "version": "3.5.2"
  }
 },
 "nbformat": 4,
 "nbformat_minor": 1
}
